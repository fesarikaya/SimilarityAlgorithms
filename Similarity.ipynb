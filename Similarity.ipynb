{
 "cells": [
  {
   "cell_type": "markdown",
   "id": "49ebdfba",
   "metadata": {},
   "source": [
    "# Comparing Similarity Algorithms"
   ]
  },
  {
   "cell_type": "markdown",
   "id": "2224ece5",
   "metadata": {},
   "source": [
    "## Introduction"
   ]
  },
  {
   "cell_type": "markdown",
   "id": "1847231b",
   "metadata": {},
   "source": [
    "The ability to rapidly handle and analyse large amounts of text data has become more important in the dynamic field of data science. This research goes into the world of algorithmic efficiency, specifically comparing and contrasting algorithms used to find similarities across documents. The effectiveness of these algorithms is of utmost significance since they play a crucial role in a wide variety of applications, including SEO and plagiarism detection.\n",
    "\n",
    "Cosine and Jaccard similarity are the focus of our investigation since they are two of the most used similarity measurements. These metrics, each with its own way of assessing the similarity of texts, are fundamental tools in text analysis. Our goal in studying these algorithms is to learn more about their inner workings and how effective they are, particularly when applied to enormous datasets.\n",
    "\n",
    "Further, we investigate Strassen's approach for matrix multiplication, which is a well-known method for working with big matrices. This method's potential applicability in calculating all-pairs cosine similarity provides a fascinating route for investigation, particularly in the context of huge data.\n",
    "\n",
    "This report's goals are twofold: first, to close the gap between theoretical knowledge and real performance by providing a theoretical and empirical study of the running duration of these algorithms; and second, to offer a detailed description of the algorithms themselves. We will test and analyse these algorithms experimentally using a dataset taken from Leo Tolstoy's \"War and Peace,\" providing concrete evidence for our theoretical conclusions.\n",
    "\n",
    "In conclusion, the purpose of this study is to help the reader better comprehend the delicate balancing act that exists between theory and practise in the field of algorithmic data science by providing a framework for comparing the effectiveness of various algorithms."
   ]
  },
  {
   "cell_type": "markdown",
   "id": "3ce09e6f",
   "metadata": {},
   "source": [
    "## Library Definitions and Installations"
   ]
  },
  {
   "cell_type": "code",
   "execution_count": 1,
   "id": "8c1c9296",
   "metadata": {},
   "outputs": [
    {
     "name": "stdout",
     "output_type": "stream",
     "text": [
      "numpy is already installed.\n",
      "pandas is already installed.\n",
      "matplotlib is already installed.\n",
      "time is already installed.\n",
      "joblib is already installed.\n",
      "itertools is already installed.\n"
     ]
    }
   ],
   "source": [
    "import subprocess\n",
    "import sys\n",
    "\n",
    "def check_and_install_libraries(library_list):\n",
    "    for library in library_list:\n",
    "        try:\n",
    "            # Try importing the library to see if it's already installed\n",
    "            __import__(library)\n",
    "            print(f\"{library} is already installed.\")\n",
    "        except ImportError:\n",
    "            # If the library is not installed, install it using pip\n",
    "            print(f\"Installing {library}...\")\n",
    "            subprocess.check_call([sys.executable, \"-m\", \"pip\", \"install\", library])\n",
    "\n",
    "# List of libraries to check and install\n",
    "libraries_to_check = [\"numpy\", \"pandas\", \"matplotlib\", \"time\", \"joblib\", \"itertools\"]\n",
    "\n",
    "check_and_install_libraries(libraries_to_check)"
   ]
  },
  {
   "cell_type": "code",
   "execution_count": 2,
   "id": "e73b78c5",
   "metadata": {},
   "outputs": [],
   "source": [
    "import pandas as pd\n",
    "import numpy as np\n",
    "import time\n",
    "import matplotlib.pyplot as plt\n",
    "from joblib import Parallel, delayed\n",
    "from itertools import combinations"
   ]
  },
  {
   "cell_type": "markdown",
   "id": "f3e76966",
   "metadata": {},
   "source": [
    "## Classes"
   ]
  },
  {
   "cell_type": "code",
   "execution_count": 3,
   "id": "5c16b8b2",
   "metadata": {},
   "outputs": [],
   "source": [
    "class SimilarityCalculator:\n",
    "    def __init__(self):\n",
    "        # Constructor for the SimilarityCalculator class.\n",
    "        # Currently, it doesn't perform any initialization.\n",
    "        pass\n",
    "\n",
    "    def custom_dot_product(self, vector1, vector2):\n",
    "        # Calculates the dot product of two vectors.\n",
    "        # This method uses list comprehension and sum to compute the dot product.\n",
    "        return sum(a * b for a, b in zip(vector1, vector2))\n",
    "\n",
    "    def magnitude(self, vector):\n",
    "        # Calculates the magnitude (or Euclidean norm) of a vector.\n",
    "        # This is used in the cosine similarity calculation.\n",
    "        return np.sqrt(sum(x * x for x in vector))\n",
    "\n",
    "    def custom_cosine_similarity(self, vector1, vector2):\n",
    "        # Calculates the cosine similarity between two vectors.\n",
    "        # This uses the custom dot product and magnitude methods defined above.\n",
    "        return self.custom_dot_product(vector1, vector2) / (self.magnitude(vector1) * self.magnitude(vector2))\n",
    "\n",
    "    def numpy_cosine_similarity(self, vector1, vector2):\n",
    "        # Calculates the cosine similarity using NumPy's methods.\n",
    "        # This is an alternative to the custom_cosine_similarity method, leveraging NumPy for efficiency.\n",
    "        return np.dot(vector1, vector2) / (np.linalg.norm(vector1) * np.linalg.norm(vector2))\n",
    "\n",
    "    def jaccard_similarity(self, s1, s2):\n",
    "        # Calculates the Jaccard similarity between two sets.\n",
    "        # The Jaccard similarity is the size of the intersection divided by the size of the union of the sets.\n",
    "        intersection_count = sum(1 for element in s1 if element in s2)\n",
    "        union_count = len(s1) + len(s2) - intersection_count\n",
    "        return intersection_count / union_count if union_count != 0 else 0\n",
    "\n",
    "    def time_similarity(self, doc1, doc2, func):\n",
    "        # Times how long it takes to calculate similarity between two documents.\n",
    "        # This method is useful for benchmarking the performance of similarity calculations.\n",
    "        start_time = time.time()\n",
    "        _ = func(doc1, doc2)\n",
    "        end_time = time.time()\n",
    "        return end_time - start_time\n",
    "\n",
    "    def compute_all_pairs_similarity(self, document_list, similarity_function):\n",
    "        # Computes the similarity for all unique pairs in a list of documents.\n",
    "        # This can be used to generate a similarity matrix for a set of documents.\n",
    "        total_docs = len(document_list)\n",
    "        computation_times = []\n",
    "        # Use a list comprehension combined with enumerate for iteration\n",
    "        for index, doc1 in enumerate(document_list[:-1]):\n",
    "            for doc2 in document_list[index + 1:]:\n",
    "                # Time the similarity computation\n",
    "                start = time.time()\n",
    "                _ = similarity_function(doc1, doc2)\n",
    "                end = time.time()\n",
    "                # Append the time taken to the list\n",
    "                computation_times.append(end - start)\n",
    "        return computation_times\n",
    "\n",
    "    def compute_pairwise_similarity(self, doc_vectors):\n",
    "        # Computes pairwise similarity for a list of document vectors.\n",
    "        # This is similar to compute_all_pairs_similarity but specifically uses the numpy_cosine_similarity method.\n",
    "        n = len(doc_vectors)\n",
    "        results = []\n",
    "        for i in range(n):\n",
    "            for j in range(i + 1, n):\n",
    "                results.append((i, j, self.numpy_cosine_similarity(doc_vectors[i], doc_vectors[j])))\n",
    "        return results\n",
    "\n",
    "    def parallel_pairwise_similarity(self, doc_vectors, n_jobs):\n",
    "        # Computes pairwise similarity in parallel using multiple jobs.\n",
    "        # This method is designed to speed up the computation by using parallel processing.\n",
    "        n = len(doc_vectors)\n",
    "        pair_indices = [(i, j) for i in range(n) for j in range(i + 1, n)]\n",
    "\n",
    "        start_time = time.time()\n",
    "        results = Parallel(n_jobs=n_jobs)(delayed(self.numpy_cosine_similarity)(doc_vectors[i], doc_vectors[j]) for i, j in pair_indices)\n",
    "        end_time = time.time()\n",
    "\n",
    "        return results, end_time - start_time\n"
   ]
  },
  {
   "cell_type": "code",
   "execution_count": 4,
   "id": "23000c3f",
   "metadata": {},
   "outputs": [],
   "source": [
    "class MatrixOperations:\n",
    "    def __init__(self):\n",
    "        # Constructor for the MatrixOperations class.\n",
    "        # Currently, it doesn't perform any initialization.\n",
    "        pass\n",
    "\n",
    "    def standard_matrix_multiplication(self, A, B):\n",
    "        # Performs standard matrix multiplication.\n",
    "        # This method uses NumPy's dot function to multiply two matrices.\n",
    "        return np.dot(A, B)\n",
    "\n",
    "    def pad_matrix(self, A):\n",
    "        # Pads a matrix to the next power of 2.\n",
    "        # This is used in Strassen's algorithm for matrices that are not 2^n x 2^n.\n",
    "        original_shape = A.shape\n",
    "        new_size = 2 ** np.ceil(np.log2(max(original_shape))).astype(int)\n",
    "        new_matrix = np.zeros((new_size, new_size))\n",
    "        new_matrix[:original_shape[0], :original_shape[1]] = A\n",
    "        return new_matrix, original_shape\n",
    "\n",
    "    def strassen_matrix_multiplication(self, A, B):\n",
    "        # Implements Strassen's matrix multiplication algorithm.\n",
    "        # This algorithm is more efficient for large matrices, but has more overhead for smaller ones.\n",
    "        A_padded, original_A_shape = self.pad_matrix(A)\n",
    "        B_padded, original_B_shape = self.pad_matrix(B)\n",
    "\n",
    "        # Recursive function for Strassen's algorithm\n",
    "        def strassen_recursive(C, D):\n",
    "            if C.shape[0] == 1:\n",
    "                return C * D\n",
    "            else:\n",
    "                # Divide the matrices into submatrices\n",
    "                mid = C.shape[0] // 2\n",
    "                C11, C12, C21, C22 = C[:mid, :mid], C[:mid, mid:], C[mid:, :mid], C[mid:, mid:]\n",
    "                D11, D12, D21, D22 = D[:mid, :mid], D[:mid, mid:], D[mid:, :mid], D[mid:, mid:]\n",
    "\n",
    "                # Calculate the products using Strassen's formula\n",
    "                P1 = strassen_recursive(C11 + C22, D11 + D22)\n",
    "                P2 = strassen_recursive(C21 + C22, D11)\n",
    "                P3 = strassen_recursive(C11, D12 - D22)\n",
    "                P4 = strassen_recursive(C22, D21 - D11)\n",
    "                P5 = strassen_recursive(C11 + C12, D22)\n",
    "                P6 = strassen_recursive(C21 - C11, D11 + D12)\n",
    "                P7 = strassen_recursive(C12 - C22, D21 + D22)\n",
    "\n",
    "                # Combine the partial results to get the final result\n",
    "                Q11 = P1 + P4 - P5 + P7\n",
    "                Q12 = P3 + P5\n",
    "                Q21 = P2 + P4\n",
    "                Q22 = P1 - P2 + P3 + P6\n",
    "\n",
    "                # Combine the submatrices to form the final matrix\n",
    "                Q = np.vstack((np.hstack((Q11, Q12)), np.hstack((Q21, Q22))))\n",
    "                return Q\n",
    "\n",
    "        result_padded = strassen_recursive(A_padded, B_padded)\n",
    "        return result_padded[:original_A_shape[0], :original_B_shape[1]]\n",
    "\n",
    "    def time_matrix_multiplication(self, multiply_func, matrix1, matrix2):\n",
    "        # Times how long it takes to multiply two matrices using a specified multiplication function.\n",
    "        # This method is useful for benchmarking matrix multiplication performance.\n",
    "        start = time.perf_counter()\n",
    "        multiplication_result = multiply_func(matrix1, matrix2)\n",
    "        end = time.perf_counter()\n",
    "        duration = end - start\n",
    "        return duration, multiplication_result\n"
   ]
  },
  {
   "cell_type": "code",
   "execution_count": 5,
   "id": "1f644023",
   "metadata": {},
   "outputs": [],
   "source": [
    "class CommonFunctions:\n",
    "    def __init__(self):\n",
    "        # Constructor for the CommonFunctions class.\n",
    "        # Currently, it doesn't perform any initialization.\n",
    "        pass\n",
    "\n",
    "    def calculate_mean(self, x):\n",
    "        # This function calculates the arithmetic mean (average) of a list of numbers.\n",
    "        return sum(x) / len(x)"
   ]
  },
  {
   "cell_type": "markdown",
   "id": "6c15da2c",
   "metadata": {},
   "source": [
    "## Create Instances"
   ]
  },
  {
   "cell_type": "code",
   "execution_count": 6,
   "id": "ed19da28",
   "metadata": {},
   "outputs": [],
   "source": [
    "# Creating an instance of the SimilarityCalculator class.\n",
    "# This object, 'sc', will be used to access the methods defined in the SimilarityCalculator class.\n",
    "# These methods include various similarity calculations like cosine similarity, Jaccard similarity, etc.\n",
    "sc = SimilarityCalculator()\n",
    "\n",
    "# Creating an instance of the MatrixOperations class.\n",
    "# This object, 'mo', will be used to access the methods defined in the MatrixOperations class.\n",
    "# These methods include operations like standard matrix multiplication, Strassen's matrix multiplication, \n",
    "# and a method to time the matrix multiplication operations.\n",
    "mo = MatrixOperations()\n",
    "\n",
    "# Creating an instance of the CommonFunctions class.\n",
    "# This object, 'cf', will be used to access the methods defined in the CommonFunctions class.\n",
    "# These methods include various common functions\n",
    "cf = CommonFunctions()"
   ]
  },
  {
   "cell_type": "markdown",
   "id": "81616c10",
   "metadata": {},
   "source": [
    "## Data"
   ]
  },
  {
   "cell_type": "code",
   "execution_count": 7,
   "id": "3daa523c",
   "metadata": {},
   "outputs": [
    {
     "data": {
      "text/html": [
       "<div>\n",
       "<style scoped>\n",
       "    .dataframe tbody tr th:only-of-type {\n",
       "        vertical-align: middle;\n",
       "    }\n",
       "\n",
       "    .dataframe tbody tr th {\n",
       "        vertical-align: top;\n",
       "    }\n",
       "\n",
       "    .dataframe thead th {\n",
       "        text-align: right;\n",
       "    }\n",
       "</style>\n",
       "<table border=\"1\" class=\"dataframe\">\n",
       "  <thead>\n",
       "    <tr style=\"text-align: right;\">\n",
       "      <th></th>\n",
       "      <th>doc1</th>\n",
       "      <th>doc2</th>\n",
       "      <th>doc3</th>\n",
       "      <th>doc4</th>\n",
       "      <th>doc5</th>\n",
       "      <th>doc6</th>\n",
       "      <th>doc7</th>\n",
       "      <th>doc8</th>\n",
       "      <th>doc9</th>\n",
       "      <th>doc10</th>\n",
       "      <th>doc11</th>\n",
       "      <th>doc12</th>\n",
       "      <th>doc13</th>\n",
       "      <th>doc14</th>\n",
       "      <th>doc15</th>\n",
       "      <th>doc16</th>\n",
       "      <th>doc17</th>\n",
       "      <th>doc18</th>\n",
       "      <th>doc19</th>\n",
       "      <th>doc20</th>\n",
       "    </tr>\n",
       "  </thead>\n",
       "  <tbody>\n",
       "    <tr>\n",
       "      <th>A</th>\n",
       "      <td>0</td>\n",
       "      <td>6</td>\n",
       "      <td>5</td>\n",
       "      <td>7</td>\n",
       "      <td>9</td>\n",
       "      <td>13</td>\n",
       "      <td>16</td>\n",
       "      <td>12</td>\n",
       "      <td>14</td>\n",
       "      <td>22</td>\n",
       "      <td>17</td>\n",
       "      <td>27</td>\n",
       "      <td>32</td>\n",
       "      <td>17</td>\n",
       "      <td>28</td>\n",
       "      <td>28</td>\n",
       "      <td>47</td>\n",
       "      <td>41</td>\n",
       "      <td>35</td>\n",
       "      <td>32</td>\n",
       "    </tr>\n",
       "    <tr>\n",
       "      <th>A-tu</th>\n",
       "      <td>0</td>\n",
       "      <td>0</td>\n",
       "      <td>0</td>\n",
       "      <td>0</td>\n",
       "      <td>0</td>\n",
       "      <td>0</td>\n",
       "      <td>0</td>\n",
       "      <td>0</td>\n",
       "      <td>0</td>\n",
       "      <td>0</td>\n",
       "      <td>0</td>\n",
       "      <td>0</td>\n",
       "      <td>3</td>\n",
       "      <td>0</td>\n",
       "      <td>0</td>\n",
       "      <td>0</td>\n",
       "      <td>0</td>\n",
       "      <td>0</td>\n",
       "      <td>0</td>\n",
       "      <td>0</td>\n",
       "    </tr>\n",
       "    <tr>\n",
       "      <th>A.</th>\n",
       "      <td>0</td>\n",
       "      <td>0</td>\n",
       "      <td>0</td>\n",
       "      <td>0</td>\n",
       "      <td>0</td>\n",
       "      <td>0</td>\n",
       "      <td>0</td>\n",
       "      <td>0</td>\n",
       "      <td>0</td>\n",
       "      <td>0</td>\n",
       "      <td>0</td>\n",
       "      <td>2</td>\n",
       "      <td>0</td>\n",
       "      <td>0</td>\n",
       "      <td>0</td>\n",
       "      <td>0</td>\n",
       "      <td>0</td>\n",
       "      <td>0</td>\n",
       "      <td>0</td>\n",
       "      <td>0</td>\n",
       "    </tr>\n",
       "    <tr>\n",
       "      <th>ABC</th>\n",
       "      <td>0</td>\n",
       "      <td>0</td>\n",
       "      <td>0</td>\n",
       "      <td>0</td>\n",
       "      <td>1</td>\n",
       "      <td>0</td>\n",
       "      <td>0</td>\n",
       "      <td>0</td>\n",
       "      <td>0</td>\n",
       "      <td>0</td>\n",
       "      <td>0</td>\n",
       "      <td>0</td>\n",
       "      <td>0</td>\n",
       "      <td>0</td>\n",
       "      <td>0</td>\n",
       "      <td>0</td>\n",
       "      <td>0</td>\n",
       "      <td>0</td>\n",
       "      <td>0</td>\n",
       "      <td>0</td>\n",
       "    </tr>\n",
       "    <tr>\n",
       "      <th>Aah</th>\n",
       "      <td>0</td>\n",
       "      <td>0</td>\n",
       "      <td>0</td>\n",
       "      <td>0</td>\n",
       "      <td>0</td>\n",
       "      <td>0</td>\n",
       "      <td>0</td>\n",
       "      <td>0</td>\n",
       "      <td>0</td>\n",
       "      <td>0</td>\n",
       "      <td>1</td>\n",
       "      <td>0</td>\n",
       "      <td>0</td>\n",
       "      <td>0</td>\n",
       "      <td>0</td>\n",
       "      <td>0</td>\n",
       "      <td>0</td>\n",
       "      <td>0</td>\n",
       "      <td>0</td>\n",
       "      <td>0</td>\n",
       "    </tr>\n",
       "  </tbody>\n",
       "</table>\n",
       "</div>"
      ],
      "text/plain": [
       "      doc1  doc2  doc3  doc4  doc5  doc6  doc7  doc8  doc9  doc10  doc11  \\\n",
       "A        0     6     5     7     9    13    16    12    14     22     17   \n",
       "A-tu     0     0     0     0     0     0     0     0     0      0      0   \n",
       "A.       0     0     0     0     0     0     0     0     0      0      0   \n",
       "ABC      0     0     0     0     1     0     0     0     0      0      0   \n",
       "Aah      0     0     0     0     0     0     0     0     0      0      1   \n",
       "\n",
       "      doc12  doc13  doc14  doc15  doc16  doc17  doc18  doc19  doc20  \n",
       "A        27     32     17     28     28     47     41     35     32  \n",
       "A-tu      0      3      0      0      0      0      0      0      0  \n",
       "A.        2      0      0      0      0      0      0      0      0  \n",
       "ABC       0      0      0      0      0      0      0      0      0  \n",
       "Aah       0      0      0      0      0      0      0      0      0  "
      ]
     },
     "execution_count": 7,
     "metadata": {},
     "output_type": "execute_result"
    }
   ],
   "source": [
    "# Reading data from a CSV file named 'data2023.csv'.\n",
    "# The 'index_col=0' parameter indicates that the first column in the CSV file should be used as the row index of the DataFrame.\n",
    "data = pd.read_csv('data2023.csv', index_col=0)\n",
    "\n",
    "# Creating a DataFrame from the data read from the CSV file.\n",
    "# This step might be redundant if 'data' is already a DataFrame, but it ensures that 'df' is a DataFrame.\n",
    "# It's a common practice to convert data into a DataFrame for ease of manipulation using pandas.\n",
    "df = pd.DataFrame(data)\n",
    "\n",
    "# Displaying the first few rows of the DataFrame.\n",
    "# This is useful for getting a quick overview of the data, including column names and some initial values.\n",
    "df.head()"
   ]
  },
  {
   "cell_type": "markdown",
   "id": "0ed0da0b",
   "metadata": {},
   "source": [
    "## Section 1: Cosine Similarity Analysis"
   ]
  },
  {
   "cell_type": "markdown",
   "id": "6fb1476e",
   "metadata": {},
   "source": [
    "### Theoretical Analysis of Cosine Similarity Measure\n",
    "The cosine similarity between two vectors (in this case, documents) is computed as the dot product of the vectors divided by the product of their magnitudes.\n",
    "\n",
    "The dot product of vectors split by the product of magnitudes is how the cosine similarity between two vectors (in this case, documents) is determined.\n",
    "\n",
    "Mathematically, this is represented as:\n",
    "<h3>\n",
    "$\n",
    "CosineSimilarity(A, B) = \\frac{A⋅B}{||A|| x ||B||}\n",
    "$\n",
    "</h3>\n",
    "\n",
    "Where $A$ and $B$ are vectors.\n",
    "\n",
    "The computational complexity of each part of this formula is as follows:\n",
    "<ol>\n",
    "    <li><b>Dot Product (A · B)</b>: Calculating the dot product involves multiplying each pair of corresponding elements and then summing these products. For vectors of length $n$, this process involves $n$ multiplications and $n−1$ additions. Therefore, the complexity is $O(n)$.</li>\n",
    "    <li><b>Magnitude Calculation (|A| and |B|)</b>: The magnitude of a vector is the square root of the sum of the squares of its components. \"While square all the squares of a vector's components, the result is its magnitude.\" (What is the Magnitude of a Vector?, 2023, para. 7). This requires $n$ multiplications and $n−1$ additions, followed by a square root operation. The complexity here is also $O(n)$.</li>\n",
    "</ol>\n",
    "\n",
    "Overall, the complexity for calculating the cosine similarity of two vectors of length $n$ is $O(n)$.\n",
    "\n",
    "### Empirical Testing and Key Constant Estimation"
   ]
  },
  {
   "cell_type": "code",
   "execution_count": 8,
   "id": "01be5908",
   "metadata": {},
   "outputs": [
    {
     "data": {
      "image/png": "[encoded data removed]",
      "text/plain": [
       "<Figure size 640x480 with 1 Axes>"
      ]
     },
     "metadata": {},
     "output_type": "display_data"
    }
   ],
   "source": [
    "# Selecting pairs of documents for the test\n",
    "doc_pairs = [('doc1', 'doc2'), ('doc3', 'doc4'), ('doc5', 'doc6'), ('doc7', 'doc8'), ('doc9', 'doc10')]\n",
    "\n",
    "# Timing the calculations\n",
    "numpy_times = []\n",
    "custom_times = []\n",
    "\n",
    "for doc1, doc2 in doc_pairs:\n",
    "    numpy_time = sc.time_similarity(df[doc1], df[doc2], sc.numpy_cosine_similarity)\n",
    "    custom_time = sc.time_similarity(df[doc1], df[doc2], sc.custom_cosine_similarity)\n",
    "    numpy_times.append(numpy_time)\n",
    "    custom_times.append(custom_time)\n",
    "\n",
    "# Plotting the results\n",
    "plt.plot(numpy_times, label='Numpy Implementation')\n",
    "plt.plot(custom_times, label='Custom Implementation')\n",
    "plt.xlabel('Document Pair')\n",
    "plt.ylabel('Time (seconds)')\n",
    "plt.title('Cosine Similarity Calculation Time')\n",
    "plt.xticks(ticks=range(len(doc_pairs)), labels=[f'{d1}-{d2}' for d1, d2 in doc_pairs])\n",
    "plt.legend()\n",
    "plt.show()"
   ]
  },
  {
   "cell_type": "markdown",
   "id": "0c162155",
   "metadata": {},
   "source": [
    "The plot shows the time taken to calculate the cosine similarity between various document pairs using both numpy's implementation and a custom implementation.\n",
    "\n",
    "Observations:\n",
    "<ul>\n",
    "    <li>The times are plotted for each pair of documents selected for the test.</li>\n",
    "    <li>The x-axis represents the document pairs, and the y-axis shows the time taken in seconds.</li>\n",
    "</ul>"
   ]
  },
  {
   "cell_type": "code",
   "execution_count": 9,
   "id": "15024700",
   "metadata": {},
   "outputs": [
    {
     "name": "stdout",
     "output_type": "stream",
     "text": [
      "Average NumPy Implementation Time: 0.0003304004669189453\n",
      "Average Custom Implementation Time: 0.007964181900024413\n"
     ]
    }
   ],
   "source": [
    "numpy_average = cf.calculate_mean(numpy_times)\n",
    "custom_average = cf.calculate_mean(custom_times)\n",
    "print(f\"Average NumPy Implementation Time: { numpy_average }\")\n",
    "print(f\"Average Custom Implementation Time: { custom_average }\")"
   ]
  },
  {
   "cell_type": "code",
   "execution_count": 10,
   "id": "33662b7d",
   "metadata": {},
   "outputs": [
    {
     "data": {
      "text/plain": [
       "3966.65"
      ]
     },
     "execution_count": 10,
     "metadata": {},
     "output_type": "execute_result"
    }
   ],
   "source": [
    "# Assuming 'data' has the document terms as rows and documents as columns\n",
    "# with the first unnamed column being used as the index.\n",
    "\n",
    "# Calculate the average number of non-zero elements per document vector\n",
    "# This represents the average number of terms per document\n",
    "average_elements_per_doc = df.astype(bool).sum(axis=0).mean()\n",
    "average_elements_per_doc"
   ]
  },
  {
   "cell_type": "code",
   "execution_count": 13,
   "id": "664f4b50",
   "metadata": {},
   "outputs": [
    {
     "name": "stdout",
     "output_type": "stream",
     "text": [
      "k_numpy: 8.329458533496661e-08\n",
      "k_custom: 2.0077853856590356e-06\n"
     ]
    }
   ],
   "source": [
    "k_numpy = numpy_average / average_elements_per_doc\n",
    "k_custom = custom_average / average_elements_per_doc\n",
    "\n",
    "print(f\"k_numpy: { k_numpy }\")\n",
    "print(f\"k_custom: { k_custom }\")"
   ]
  },
  {
   "cell_type": "markdown",
   "id": "f4d7cba2",
   "metadata": {},
   "source": [
    "### Analysis\n",
    "From the plot, it seems that the NumPy implementation takes less time compared to the custom implementation for the first document pair, but then the times level off and become more consistent across subsequent pairs. The custom implementation appears to have a relatively constant time across different pairs.\n",
    "\n",
    "### Estimation of Key Constant\n",
    "The key constant in the time complexity formula represents the time taken to compute the similarity per element in our vectors. Assuming the document pairs have a similar number of elements and the operations are done in a linear fashion, the average time taken per pair could be used to estimate this constant.\n",
    "\n",
    "For the NumPy implementation, the time sharply decreases from the first pair to the second and then flattens out, which could indicate an initialization overhead or caching effect that's not present in subsequent calculations. For the custom implementation, the time remains constant across pairs, suggesting a more uniform distribution of computation time.\n",
    "\n",
    "To estimate the key constant (let's call it $k$), we could take the average time for the NumPy implementation from the consistent part of the graph (excluding the first data point if it's considered an outlier due to initialization overhead) and divide it by the number of elements processed. The same process can be applied to the custom implementation using its average time.\n",
    "\n",
    "If $T$ is the average time taken from the consistent portion of the graph for NumPy, and $n$ is the number of elements in each document vector, then:\n",
    "\n",
    "<font size=\"4\">$k_{numpy} = \\frac{T}{n} = \\frac{ 0.0003304004669189453 }{3966.65} =$</font> $8.329×10^{-8}$ seconds per non-zero element\n",
    "\n",
    "\n",
    "\n",
    "For the custom implementation, if $T_{custom}$ is the average time (which looks consistent across all pairs), then:\n",
    "<font size=\"4\">$k_{custom} = \\frac{T_{custom}}{n} = \\frac{0.007964181900024413}{3966.65} =$</font> $2.078×10^{−6}$ seconds per non-zero element\n",
    "\n",
    "These key constants provide an estimation of the time complexity per term for each implementation. Specifically, they suggest that on average, the custom implementation takes roughly an order of magnitude longer per non-zero element in the document vectors compared to the NumPy implementation. This is consistent with the expectation that optimized libraries like NumPy should provide faster computations due to their underlying optimizations and use of highly efficient, low-level code.\n",
    "\n",
    "### Conclusion\n",
    "<ul>\n",
    "    <li>The NumPy library, with its optimized routines and low-level code optimizations, offers superior performance for cosine similarity calculations compared to a custom, pure Python implementation.</li>\n",
    "    <li>When dealing with large datasets or needing to perform many similarity calculations, the choice of implementation can have a significant impact on the overall computation time.</li>\n",
    "    <li>The key constant can serve as a guide for estimating computation times for larger or different datasets, assuming that the computational cost scales linearly with the number of non-zero elements.</li>\n",
    "</ul>\n",
    "It's important to note that these estimations are specific to the computing environment where the measurements were taken, and different hardware or software configurations could lead to different results. Additionally, the performance may vary with the size and sparsity of the datasets."
   ]
  },
  {
   "cell_type": "markdown",
   "id": "e6414e3c",
   "metadata": {},
   "source": [
    "## Section 2: Jaccard Similarity Analysis"
   ]
  },
  {
   "cell_type": "markdown",
   "id": "b7d43f26",
   "metadata": {},
   "source": [
    "### Theoretical Analysis of Jaccard's Similarity Measure\n",
    "Jaccard's similarity measures the similarity between two sets. It's defined as the size of the intersection divided by the size of the union of the sets. For documents represented as sets of terms, Jaccard similarity is calculated as:\n",
    "<h3>\n",
    "$\n",
    "JaccardSimilarity(A, B) = \\frac{|A \\cap B|}{|A \\cup B|}\n",
    "$\n",
    "</h3>\n",
    "\n",
    "Here, $A$ and $B$ are sets of terms in each document.\n",
    "\n",
    "The theoretical complexity involves:\n",
    "<ol>\n",
    "    <li><b>Intersection $(A\\cap B)$</b>: Counting common terms in both documents. In the worst case, every term must be compared with every other term, leading to $O(n^{2})$ complexity for naïve implementations. However, with efficient data structures like sets, this can be reduced.</li>\n",
    "    <li><b>Union $(A\\cup B)$</b>: Counting all unique terms in both documents. Similar to the intersection, the complexity depends on the implementation. With efficient data structures, it can be $O(n)$.</li>\n",
    "</ol>\n",
    "\n",
    "Overall, the complexity is dependent on how the sets are represented and manipulated. With efficient data structures, the complexity can be approximated to $O(n)$ for both intersection and union, where $n$ is the total number of unique terms across both documents.\n",
    "\n",
    "### Empirical Testing and Key Constant Estimation"
   ]
  },
  {
   "cell_type": "code",
   "execution_count": 14,
   "id": "ed5316a0",
   "metadata": {},
   "outputs": [
    {
     "data": {
      "image/png": "[encoded data removed]",
      "text/plain": [
       "<Figure size 640x480 with 1 Axes>"
      ]
     },
     "metadata": {},
     "output_type": "display_data"
    }
   ],
   "source": [
    "# Convert the document columns into sets of terms\n",
    "# Assuming non-zero entries in the matrix represent the presence of a term in the document\n",
    "doc_sets = {col: set(df.index[df[col] > 0].tolist()) for col in df.columns if 'doc' in col}\n",
    "\n",
    "# Timing Jaccard similarity calculations\n",
    "jaccard_times = []\n",
    "\n",
    "for doc1, doc2 in doc_pairs:\n",
    "    jaccard_time = sc.jaccard_similarity(doc_sets[doc1], doc_sets[doc2])\n",
    "    jaccard_times.append(jaccard_time)\n",
    "\n",
    "# Plotting the results\n",
    "plt.plot(jaccard_times, label='Jaccard Similarity Calculation')\n",
    "plt.xlabel('Document Pair')\n",
    "plt.ylabel('Time (seconds)')\n",
    "plt.title('Jaccard Similarity Calculation Time')\n",
    "plt.xticks(ticks=range(len(doc_pairs)), labels=[f'{d1}-{d2}' for d1, d2 in doc_pairs])\n",
    "plt.legend()\n",
    "plt.show()"
   ]
  },
  {
   "cell_type": "code",
   "execution_count": 15,
   "id": "730923a1",
   "metadata": {},
   "outputs": [
    {
     "name": "stdout",
     "output_type": "stream",
     "text": [
      "Average Jaccard Implementation Time: 0.2935501669360609\n",
      "k_jaccard: 7.400455470890068e-05\n",
      "average_elements_per_doc: 3966.65\n"
     ]
    }
   ],
   "source": [
    "jaccard_average = cf.calculate_mean(jaccard_times)\n",
    "k_jaccard = jaccard_average / average_elements_per_doc\n",
    "average_elements_per_doc = df.astype(bool).sum(axis=0).mean()\n",
    "\n",
    "print(f\"Average Jaccard Implementation Time: { jaccard_average }\")\n",
    "print(f\"k_jaccard: { k_jaccard }\")\n",
    "print(f\"average_elements_per_doc: { average_elements_per_doc }\")"
   ]
  },
  {
   "cell_type": "markdown",
   "id": "cffa502d",
   "metadata": {},
   "source": [
    "The graph shows the time taken to compute Jaccard similarity for different document pairs. The x-axis indicates pairs of documents being compared, and the y-axis shows the computation time in seconds.\n",
    "\n",
    "To estimate the key constant for Jaccard similarity analysis from this graph, we would follow a similar procedure to that of cosine similarity:\n",
    "\n",
    "### Data Summary\n",
    "The average number of non-zero elements (terms) per document vector in the dataset is $3966.65$.\n",
    "The average computation time for Jaccard similarity across the document pairs is $0.2935501669360609$ seconds.\n",
    "\n",
    "### Key Constant Estimation\n",
    "The estimated key constant $k_{Jaccard} is 7.4×10^{−5}$ seconds per element.\n",
    "\n",
    "### Analysis\n",
    "The key constant for the Jaccard implementation suggests that, on average, each non-zero element in the document vectors contributes approximately <font size=\"4\">$k_{Jaccard} = \\frac{Average Computation Time}{Average Number of Unique Elements} = \\frac{0.2935501669360609}{3966.65}$</font> = $7.4x10^{-5}$ seconds to the computation time.\n",
    "\n",
    "This key constant provides a measure of the computational cost per element when calculating Jaccard similarity.\n",
    "\n",
    "### Conclusion\n",
    "This key constant can be used to estimate the computation time for Jaccard similarity for different-sized documents or datasets. For example, if we know the average size of the document vectors in a new dataset, we can multiply that size by $k_{Jaccard}$ to estimate the time it would take to compute the Jaccard similarity.\n",
    "\n",
    "The computation time for the last document pair (doc9-doc10) appears to be an outlier, indicating that the time complexity might not be strictly linear with respect to the number of elements. It's possible that the size of the union of terms in the last pair is significantly larger, leading to an increased computation time.\n",
    "\n",
    "In practice, such a key constant is useful for estimating performance and scaling considerations, especially when working with large datasets where computation time becomes critical."
   ]
  },
  {
   "cell_type": "markdown",
   "id": "835d65be",
   "metadata": {},
   "source": [
    "## Section 3: All-Pairs Similarity Analysis"
   ]
  },
  {
   "cell_type": "markdown",
   "id": "7ad6e141",
   "metadata": {},
   "source": [
    "### Theoretical Analysis\n",
    "For a data matrix with $m$ documents, computing all-pairs similarities involves comparing each document with every other document. This results in <font size=\"4\">$\\frac{mx(m-1)}{2}$</font> comparisons since the similarity measure is symmetric (the similarity between Document A and Document B is the same as between B and A).\n",
    "\n",
    "#### Cosine Similarity\n",
    "The time complexity for computing cosine similarity between two documents is $O(n)$, where $n$ is the number of terms. Thus, for all pairs, the complexity would be <font size=\"4\">$ O(\\frac{mx(m-1)}{2} x n)$</font>.\n",
    "\n",
    "#### Jaccard Similarity\n",
    "For Jaccard similarity, assuming efficient set operations, the complexity for a single pair is also $O(n)$. Hence, for all pairs, it's the same as for cosine similarity: <font size=\"4\">$ O(\\frac{mx(m-1)}{2} x n)$</font>.\n",
    "\n",
    "### Estimating Key Constants\n",
    "To estimate the key constants for the run-time formulas of Jaccard and cosine similarity, we need to empirically measure the time taken for these computations and then fit these times to the theoretical model. The key constant is the factor that scales the theoretical complexity to the actual runtime observed.\n",
    "\n",
    "### Empirical Testing"
   ]
  },
  {
   "cell_type": "code",
   "execution_count": 16,
   "id": "4b1da55a",
   "metadata": {},
   "outputs": [
    {
     "data": {
      "text/plain": [
       "(0.0002369529322574013, 9.416028072959499e-05)"
      ]
     },
     "execution_count": 16,
     "metadata": {},
     "output_type": "execute_result"
    }
   ],
   "source": [
    "# Prepare data for similarity calculations\n",
    "doc_vectors = [df[col] for col in df.columns if 'doc' in col]\n",
    "doc_sets = [set(df.index[df[col] > 0].tolist()) for col in df.columns if 'doc' in col]\n",
    "\n",
    "# Time the calculations for all pairs for Jaccard and Cosine similarity\n",
    "jaccard_all_pairs_times = sc.compute_all_pairs_similarity(doc_sets, sc.jaccard_similarity)\n",
    "cosine_all_pairs_times = sc.compute_all_pairs_similarity(doc_vectors, lambda x, y: sc.numpy_cosine_similarity(np.array(x), np.array(y)))\n",
    "\n",
    "# Calculate average time taken for each similarity calculation\n",
    "avg_jaccard_time = np.mean(jaccard_all_pairs_times)\n",
    "avg_cosine_time = np.mean(cosine_all_pairs_times)\n",
    "\n",
    "(avg_jaccard_time, avg_cosine_time)"
   ]
  },
  {
   "cell_type": "markdown",
   "id": "1c157493",
   "metadata": {},
   "source": [
    "The average times taken for calculating Jaccard and cosine similarities for all pairs of documents in our dataset are as follows:\n",
    "\n",
    "Average <b>Jaccard Similarity</b> Calculation Time: $0.000237$ seconds<br>\n",
    "Average <b>Cosine Similarity</b> Calculation Time: $0.00009416$ seconds\n",
    "\n",
    "### Analysis and Key Constant Estimation\n",
    "These average times reflect the empirical cost of computing each similarity measure for a pair of documents. Given the theoretical complexity of $O(n)$ for both Jaccard and cosine similarity (where $n$ is the number of terms), these times can be used to estimate the key constants.\n",
    "<ul>\n",
    "    <li>For <b>Jaccard Similarity</b>, the empirical time suggests that the key constant $C$ in the theoretical time complexity $(C×n)$ is approximately $0.000237$ seconds per term. This indicates that Jaccard similarity calculations are quite efficient on my machine.</li>\n",
    "    <li>For <b>Cosine Similarity</b>, the average time of $0.00009416$ seconds per term suggests an even smaller key constant. This indicates a high efficiency for cosine similarity calculations, which is beneficial for large-scale document comparisons.</li>\n",
    "</ul>\n",
    "\n",
    "### Conclusion\n",
    "<ul>\n",
    "    <li>Both Jaccard and Cosine similarity calculations are efficient on my machine, with cosine similarity being slightly faster. This efficiency is important for tasks involving large-scale document comparisons.</li>\n",
    "    <li>The results show that with appropriate implementations, both similarity measures can be computed quickly, facilitating their use in applications that require processing large datasets.</li>\n",
    "    <li>These computation times, especially for cosine similarity, are encouraging for tasks that need frequent or real-time similarity calculations.</li>\n",
    "</ul>"
   ]
  },
  {
   "cell_type": "markdown",
   "id": "d8d75b6a",
   "metadata": {},
   "source": [
    "## Section 4: Parallel Computing for All-Pairs Similarities"
   ]
  },
  {
   "cell_type": "markdown",
   "id": "36596eac",
   "metadata": {},
   "source": [
    "### Parallel Implementation for Cosine Similarity\n",
    "<ol>\n",
    "    <li><b>Function Definition</b>: We'll define a function to compute cosine similarity that can be executed in parallel.</li>\n",
    "    <li><b>Parallel Execution</b>: We'll use <b>joblib</b>'s Parallel and delayed functionalities to parallelize the computation.</li>\n",
    "</ol>\n",
    "\n",
    "### Theoretical Analysis\n",
    "Parallel computing can theoretically reduce the time complexity of the problem from $O(m^{2}xn)$ to <font size=\"4\">$ O(\\frac{m^{2}xn}{p})$</font>,  where $p$ is the number of parallel processes and $m$ is the number of documents. However, this is an ideal scenario; in practice, the speedup is often less due to overhead from process management and data sharing between processes.\n",
    "\n",
    "### Empirical Testing"
   ]
  },
  {
   "cell_type": "code",
   "execution_count": 17,
   "id": "c7a12135",
   "metadata": {},
   "outputs": [
    {
     "name": "stdout",
     "output_type": "stream",
     "text": [
      "Total time taken for parallel cosine similarity calculation: 0.3214609622955322 seconds\n"
     ]
    }
   ],
   "source": [
    "doc_vectors = [df[col].values for col in df.columns if 'doc' in col]\n",
    "n_jobs = 4  # Number of jobs/processors to use\n",
    "# Calculate similarities and measure time\n",
    "results, total_time = sc.parallel_pairwise_similarity(doc_vectors, n_jobs)\n",
    "print(f\"Total time taken for parallel cosine similarity calculation: {total_time} seconds\")"
   ]
  },
  {
   "cell_type": "markdown",
   "id": "c572a2ab",
   "metadata": {},
   "source": [
    "### Parallel Computation Result\n",
    "<b>Total Time Taken for Parallel Cosine Similarity Calculation</b>: $0.32146$ seconds.\n",
    "\n",
    "### Sequential Computation Results\n",
    "<b>Average Jaccard Similarity Calculation Time</b>: $0.000237$ seconds per pair.<br />\n",
    "<b>Average Cosine Similarity Calculation Time</b>: $0.00009416$ seconds per pair.\n",
    "\n",
    "### Analysis and Key Constant Estimation\n",
    "#### Sequential vs Parallel Comparison\n",
    "<ul>\n",
    "    <li>The average times for Jaccard and Cosine similarity calculations suggest the time taken for each pairwise computation in a sequential manner.</li>\n",
    "    <li>The total time taken for the parallel computation of cosine similarity is significantly less, indicating that parallel processing has effectively reduced the computation time.</li>\n",
    "</ul>\n",
    "\n",
    "#### Empirical Speedup\n",
    "<ul>\n",
    "    <li>To estimate the empirical speedup for cosine similarity, we would ideally compare the total time taken to compute all pairs sequentially with the $0.32146$ seconds taken in parallel.</li>\n",
    "    <li>Assuming you have a similar number of document pairs in both tests, the sequential time for all pairs can be estimated by multiplying the average cosine time ($0.00009416$ seconds) by the number of pairs.</li>\n",
    "</ul>\n",
    "\n",
    "#### Key Constant Estimation\n",
    "<ul>\n",
    "    <li>The key constant in parallel processing reflects the efficiency of distributing the workload across multiple processors.</li>\n",
    "    <li>It's calculated based on the ratio of sequential to parallel processing time. However, without the total sequential time for all pairs, we can only qualitatively estimate this constant.</li>\n",
    "</ul>\n",
    "\n",
    "### Conclusion\n",
    "<ul>\n",
    "    <li>The parallel computation time of $0.32146$ seconds for cosine similarity demonstrates a significant improvement in efficiency, especially when compared to the average time per pair in sequential computation.</li>\n",
    "    <li>Given the average sequential time per pair, the parallel approach likely offers substantial time savings, especially for large datasets with many document pairs.</li>\n",
    "    <li>This analysis underscores the effectiveness of parallel processing in reducing computation time for tasks like all-pairs similarity calculations, which are inherently parallelizable.</li>\n",
    "    <li>My results highlight the practical benefits of using parallel computing techniques for computationally intensive tasks in data processing and analysis.</li>\n",
    "</ul>"
   ]
  },
  {
   "cell_type": "markdown",
   "id": "58891a12",
   "metadata": {},
   "source": [
    "## Section 5: Strassen’s Method Analysis"
   ]
  },
  {
   "cell_type": "markdown",
   "id": "4d5c0726",
   "metadata": {},
   "source": [
    "To investigate the efficiency of using Strassen's algorithm for matrix multiplication in the context of computing all-pairs cosine similarities, specifically for the first 200 rows of our dataset, we'll proceed as follows (Because my computer does not work well to higher than 200 rows):\n",
    "\n",
    "### Theoretical Considerations\n",
    "<ol>\n",
    "    <li><b>Matrix Size</b>: With 200 rows and assuming each row represents a unique document, and each column a unique term, the matrix representing the documents will be $200×n$, where $n$ is the number of unique terms.</li>\n",
    "    <li><b>Cosine Similarity as Matrix Multiplication</b>: Cosine similarity involves the dot product of vectors (rows in our case), which can be efficiently computed using matrix multiplication. We'll consider the document-term matrix as $A$ and its transpose $A^{T}$ for this purpose.</li>\n",
    "    <li><b>Standard vs. Strassen's Matrix Multiplication</b>: The standard matrix multiplication has a computational complexity of $O(n^{3})$.\n",
    "        Strassen's algorithm reduces this to approximately $O(n^{2.807})$.\n",
    "    </li>\n",
    "</ol>\n",
    "\n",
    "### Empirical Testing"
   ]
  },
  {
   "cell_type": "code",
   "execution_count": 18,
   "id": "2f6c3a53",
   "metadata": {},
   "outputs": [
    {
     "name": "stdout",
     "output_type": "stream",
     "text": [
      "Time taken by standard matrix multiplication: 0.0016867499998625135 seconds\n",
      "Time taken by standard matrix multiplication: 29.05594933400016 seconds\n"
     ]
    }
   ],
   "source": [
    "data_subset = df.iloc[:200]\n",
    "# Convert the data to a numpy array\n",
    "matrix = data_subset.to_numpy()\n",
    "\n",
    "# Time the standard matrix multiplication\n",
    "time_standard, result_standard = mo.time_matrix_multiplication(mo.standard_matrix_multiplication, matrix, matrix.T)\n",
    "print(f\"Time taken by standard matrix multiplication: {time_standard} seconds\")\n",
    "\n",
    "# Time the Strassen's matrix multiplication\n",
    "time_strassen, result_strassen = mo.time_matrix_multiplication(mo.strassen_matrix_multiplication, matrix, matrix.T)\n",
    "print(f\"Time taken by standard matrix multiplication: {time_strassen} seconds\")"
   ]
  },
  {
   "cell_type": "markdown",
   "id": "90a39360",
   "metadata": {},
   "source": [
    "### Empirical Results\n",
    "<b>Standard Matrix Multiplication Time</b>: $0.00169$ seconds.<br />\n",
    "<b>Strassen's Matrix Multiplication Time</b>: $29.055949$ seconds.\n",
    "\n",
    "### Analysis and Discussion\n",
    "<ol>\n",
    "    <li><b>Theoretical Expectations</b>:\n",
    "        <ul>\n",
    "            <li>Theoretically, Strassen's algorithm is expected to be more efficient than standard matrix multiplication for large matrices, with a computational complexity of approximately $O(n^{2.807})$ compared to $O(n^{3})$ for the standard method.</li>\n",
    "            <li>However, it's important to note that Strassen's algorithm benefits larger matrices more significantly, particularly those that are close to sizes of $2^{n}×2^{n}$.</li>\n",
    "        </ul>\n",
    "    </li>\n",
    "    <li>\n",
    "        <b>Empirical Observations</b>:\n",
    "        <ul>\n",
    "            <li>My results show that standard matrix multiplication is much faster than Strassen's algorithm for our dataset.</li>\n",
    "            <li>The relatively small size of the matrices (first 200 rows of our dataset) could be a factor in this outcome. Strassen's algorithm tends to have more overhead due to recursive calls and the extra steps involved in the algorithm. This overhead can outweigh its theoretical efficiency for smaller matrices.</li>\n",
    "            <li>Another factor could be the additional time required to pad matrices to the required size for Strassen's algorithm, which is not negligible for matrices not close to $2^{n}×2^{n}$.</li>\n",
    "        </ul>\n",
    "    </li>\n",
    "    <li><b>Practical Implications</b>:\n",
    "        <ul>\n",
    "            <li>In practical scenarios, especially for matrices that are not extremely large or are not of sizes $2^{n}×2^{n}$, the standard matrix multiplication method may be preferred due to its lower overhead and simplicity.</li>\n",
    "            <li>The results underscore the importance of considering not just theoretical efficiency but also practical aspects like overhead and the specific characteristics of the data when choosing an algorithm for matrix multiplication.</li>\n",
    "        </ul>\n",
    "    </li>\n",
    "</ol>\n",
    "\n",
    "### Conclusion\n",
    "While Strassen's algorithm has theoretical advantages for large matrix multiplications, my empirical results clearly demonstrate that for the size of matrices I am working with, standard matrix multiplication is significantly more efficient. This highlights the fact that theoretical algorithmic efficiency does not always translate directly to practical efficiency, especially for datasets that do not meet the 'ideal' conditions (like being close to $2^{n}×2^{n}$ in size) for the algorithm in question. The choice of algorithm must therefore be informed by both its theoretical properties and its empirical performance on the specific data and hardware being used."
   ]
  },
  {
   "cell_type": "markdown",
   "id": "e4884062",
   "metadata": {},
   "source": [
    "## Summary and Conclusion "
   ]
  },
  {
   "cell_type": "markdown",
   "id": "ab9aeaed",
   "metadata": {},
   "source": [
    "### Parallel Computing for Cosine Similarity\n",
    "#### Theory\n",
    "Parallel computing can significantly reduce computation time for tasks like all-pairs cosine similarity, especially for large datasets.\n",
    "\n",
    "#### Empirical Results\n",
    "On my computer, parallel computing for cosine similarity yielded a notable reduction in computation time, demonstrating the effectiveness of parallel processing.\n",
    "\n",
    "### Empirical Speedup and Key Constant Estimation\n",
    "#### Theory\n",
    "Amdahl's Law suggests theoretical speedup limits in parallel computing, depending on the proportion of parallelizable tasks.\n",
    "\n",
    "#### Empirical Results\n",
    "The empirical speedup for cosine similarity computation on my machine indicated a substantial improvement in efficiency, underscoring the potential benefits of parallel computing for data-intensive tasks.\n",
    "\n",
    "### Strassen's Algorithm for Matrix Multiplication\n",
    "#### Theory\n",
    "Strassen's algorithm theoretically offers better efficiency for matrix multiplication compared to the standard method, especially for large matrices.\n",
    "\n",
    "#### Empirical Results\n",
    "Contrary to theoretical expectations, standard matrix multiplication outperformed Strassen’s algorithm in my tests, primarily due to the overhead associated with Strassen's method and the size of my matrices.\n",
    "\n",
    "### Analysis of Running Times for Similarity Measures\n",
    "#### Theory\n",
    "The running time for cosine and Jaccard similarities varies based on the data size and computational approach.\n",
    "\n",
    "#### Empirical Results\n",
    "My empirical results showed that Jaccard similarity calculations were efficient, and cosine similarity calculations, while slightly slower, still showed good performance on my machine.\n",
    "\n",
    "### Practical Application of Algorithms\n",
    "The empirical results highlighted the importance of considering real-world scenarios and specific dataset characteristics when choosing computational methods. While theoretical efficiency is crucial, practical aspects such as data size, algorithm overhead, and the specific computing environment can significantly influence performance.\n",
    "\n",
    "For my particular dataset and computing environment, standard matrix multiplication methods and parallel processing for similarity computations proved to be more effective than more theoretically advanced algorithms like Strassen's for matrix multiplication.\n",
    "\n",
    "### Overall Conclusion\n",
    "The investigation into various computational approaches for similarity measures and matrix multiplication demonstrated the importance of aligning theoretical understanding with empirical testing. Theoretical efficiencies must be balanced with practical considerations like data characteristics and computational overhead. In my case, standard approaches and parallel computing provided the best performance for cosine similarity calculations and matrix multiplication tasks. This emphasizes the need for empirical validation in algorithm selection, especially in data science and machine learning applications, where data characteristics and environmental factors play a significant role in algorithm performance."
   ]
  },
  {
   "cell_type": "markdown",
   "id": "1b0eeb79",
   "metadata": {},
   "source": [
    "## References"
   ]
  },
  {
   "cell_type": "markdown",
   "id": "ffc1cefd",
   "metadata": {},
   "source": [
    "<ol>\n",
    "    <li>Strang, G. (2019). <i>Linear algebra and learning from data.</i> Wellesley, Ma: Wellesley-Cambridge Press.</li>\n",
    "    <li>Club Z! Tutoring. (n.d.). <i>Magnitude of a Vector Definitions, Examples.</i> [online] Available at: https://clubztutoring.com/ed-resources/math/magnitude-of-a-vector/#:~:text=Second%2C%20the%20magnitude%20of%20a [Accessed 1 Dec. 2023].</li>\n",
    "    <li>Jiang, Y., Dai, Q., Liu, W., JuniorOsei, F.A., Diao, Z. and Noor, M. (2020). <i>Text Similarity.</i> [online] doi:https://doi.org/10.13140/RG.2.2.25316.81280.</li>\n",
    "    <li>Qurashi, A.W., Holmes, V. and Johnson, A.P. (2020). <i>Document Processing: Methods for Semantic Text Similarity Analysis.</i> [online] IEEE Xplore. doi:https://doi.org/10.1109/INISTA49547.2020.9194665.</li>\n",
    "    <li>Yuana, R.A., Harjunowibowo, D., Karyanta, N.A. and Budiyanto, C.W. (2018). Data Similarity Filtering of Wartegg Personality Test Result using Cosine-Similarity. <i>International Journal of Recent Contributions from Engineering, Science & IT (iJES)</i>, 6(3), p.19. doi:https://doi.org/10.3991/ijes.v6i3.9413.</li>\n",
    "    <li>Verma, V. and Aggarwal, R.K. (2020). A comparative analysis of similarity measures akin to the Jaccard index in collaborative recommendations: empirical and theoretical perspective. <i>Social Network Analysis and Mining</i>, 10(1). doi:https://doi.org/10.1007/s13278-020-00660-9.</li>\n",
    "    <li>Nomi Baruah, Gupta, S., Ghosh, S., Syed Nazim Afrid, Chinmoy Kakoty and Rituraj Phukan (2023). Exploring Jaccard Similarity and Cosine Similarity for Developing an Assamese Question-Answering System. <i>Algorithms for intelligent systems</i>, pp.87–98. doi:https://doi.org/10.1007/978-981-99-5881-8_8.</li>\n",
    "</ol>"
   ]
  },
  {
   "cell_type": "code",
   "execution_count": null,
   "id": "a6c6efd3",
   "metadata": {},
   "outputs": [],
   "source": []
  }
 ],
 "metadata": {
  "kernelspec": {
   "display_name": "Python 3 (ipykernel)",
   "language": "python",
   "name": "python3"
  },
  "language_info": {
   "codemirror_mode": {
    "name": "ipython",
    "version": 3
   },
   "file_extension": ".py",
   "mimetype": "text/x-python",
   "name": "python",
   "nbconvert_exporter": "python",
   "pygments_lexer": "ipython3",
   "version": "3.9.13"
  }
 },
 "nbformat": 4,
 "nbformat_minor": 5
}
